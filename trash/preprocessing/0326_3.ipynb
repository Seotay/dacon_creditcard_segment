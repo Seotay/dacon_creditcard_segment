{
 "cells": [
  {
   "cell_type": "code",
   "execution_count": 2,
   "metadata": {},
   "outputs": [],
   "source": [
    "import pandas as pd\n",
    "import matplotlib.pyplot as plt\n",
    "import seaborn as sns\n",
    "import math\n",
    "plt.rcParams['font.family'] ='Malgun Gothic'\n",
    "plt.rcParams['axes.unicode_minus'] =False"
   ]
  },
  {
   "cell_type": "code",
   "execution_count": 3,
   "metadata": {},
   "outputs": [],
   "source": [
    "train_df = pd.read_parquet('../data/train/train_filtered.parquet')\n",
    "test_df = pd.read_parquet('../data/test/test_filtered.parquet')"
   ]
  },
  {
   "cell_type": "code",
   "execution_count": 4,
   "metadata": {},
   "outputs": [
    {
     "name": "stdout",
     "output_type": "stream",
     "text": [
      "shape of train set in member:  (2400000, 743)\n",
      "shape of test set in member:  (600000, 742)\n"
     ]
    }
   ],
   "source": [
    "print('shape of train set in member: ', train_df.shape)\n",
    "print('shape of test set in member: ', test_df.shape)"
   ]
  },
  {
   "cell_type": "markdown",
   "metadata": {},
   "source": [
    "### 년/월 변수 추출"
   ]
  },
  {
   "cell_type": "code",
   "execution_count": 5,
   "metadata": {},
   "outputs": [],
   "source": [
    "date = pd.to_datetime(train_df['기준년월'], format='%Y%m')\n",
    "train_df['year'] = date.dt.year\n",
    "train_df['month'] = date.dt.month\n",
    "\n",
    "train_df['year'] = train_df['year'].astype(int)\n",
    "train_df['month'] = train_df['month'].astype(int)"
   ]
  },
  {
   "cell_type": "code",
   "execution_count": 6,
   "metadata": {},
   "outputs": [],
   "source": [
    "date = pd.to_datetime(test_df['기준년월'], format='%Y%m')\n",
    "test_df['year'] = date.dt.year\n",
    "test_df['month'] = date.dt.month\n",
    "\n",
    "test_df['year'] = test_df['year'].astype(int)\n",
    "test_df['month'] = test_df['month'].astype(int)"
   ]
  },
  {
   "cell_type": "code",
   "execution_count": 7,
   "metadata": {},
   "outputs": [],
   "source": [
    "train_df.to_parquet('../data/train/train_filtered03.parquet', index=False)\n",
    "test_df.to_parquet('../data/test/test_filtered03.parquet', index=False)"
   ]
  },
  {
   "cell_type": "code",
   "execution_count": null,
   "metadata": {},
   "outputs": [],
   "source": []
  },
  {
   "cell_type": "code",
   "execution_count": null,
   "metadata": {},
   "outputs": [],
   "source": []
  },
  {
   "cell_type": "code",
   "execution_count": null,
   "metadata": {},
   "outputs": [],
   "source": []
  },
  {
   "cell_type": "markdown",
   "metadata": {},
   "source": [
    "##### 전체 ID를 기준으로 7, 8, 9, 10, 11, 12월에 따라 Segment 값의 변화가 없음. -> 기준년월 컬럼 제거(시간적 특성 반영x)"
   ]
  },
  {
   "cell_type": "code",
   "execution_count": 48,
   "metadata": {},
   "outputs": [
    {
     "data": {
      "image/png": "[encoded data removed]",
      "text/plain": [
       "<Figure size 1200x600 with 1 Axes>"
      ]
     },
     "metadata": {},
     "output_type": "display_data"
    }
   ],
   "source": [
    "# 'TRAIN_000000'에 해당하는 데이터 필터링\n",
    "plt.figure(figsize=(12, 6))\n",
    "id = 'TRAIN_000001'\n",
    "sns.lineplot(x=train_df[train_df['ID'] == id].sort_values(by='기준년월')['기준년월'],\n",
    "             y=train_df[train_df['ID'] == id].sort_values(by='기준년월')['Segment'],\n",
    "             marker='o', linestyle='-')\n",
    "\n",
    "plt.title(\"월별 Segment 변화\", fontsize=14)\n",
    "plt.xlabel(\"기준년월\", fontsize=12)\n",
    "plt.ylabel(\"Segment\", fontsize=12)\n",
    "plt.show()"
   ]
  },
  {
   "cell_type": "code",
   "execution_count": 38,
   "metadata": {},
   "outputs": [
    {
     "name": "stdout",
     "output_type": "stream",
     "text": [
      "num of unchanged segment id: 100.0%\n"
     ]
    }
   ],
   "source": [
    "segment_change_by_month = train_df.groupby('ID')['Segment'].nunique().reset_index()\n",
    "segment_change_by_month['Segment_changed'] = segment_change_by_month['Segment'] == 1 # no changed = 1\n",
    "print('num of unchanged segment id: {}%'.format(sum(segment_change_by_month['Segment_changed'])/len(segment_change_by_month)*100))"
   ]
  },
  {
   "cell_type": "code",
   "execution_count": 54,
   "metadata": {},
   "outputs": [],
   "source": [
    "train_df.drop(columns=['기준년월']).to_parquet('../data/train/train_filtered03.parquet', index=False)\n",
    "test_df.drop(columns=['기준년월']).to_parquet('../data/test/test_filtered03.parquet', index=False)"
   ]
  },
  {
   "cell_type": "markdown",
   "metadata": {},
   "source": []
  }
 ],
 "metadata": {
  "kernelspec": {
   "display_name": "taehyeok",
   "language": "python",
   "name": "python3"
  },
  "language_info": {
   "codemirror_mode": {
    "name": "ipython",
    "version": 3
   },
   "file_extension": ".py",
   "mimetype": "text/x-python",
   "name": "python",
   "nbconvert_exporter": "python",
   "pygments_lexer": "ipython3",
   "version": "3.8.20"
  }
 },
 "nbformat": 4,
 "nbformat_minor": 2
}
